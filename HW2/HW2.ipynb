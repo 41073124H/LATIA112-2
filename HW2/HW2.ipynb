{
  "nbformat": 4,
  "nbformat_minor": 0,
  "metadata": {
    "colab": {
      "provenance": []
    },
    "kernelspec": {
      "name": "python3",
      "display_name": "Python 3"
    },
    "language_info": {
      "name": "python"
    }
  },
  "cells": [
    {
      "cell_type": "code",
      "execution_count": 1,
      "metadata": {
        "colab": {
          "base_uri": "https://localhost:8080/"
        },
        "id": "fqKIidl8XRgL",
        "outputId": "8d0421ad-524b-44b0-8256-e68a1b4d7e66"
      },
      "outputs": [
        {
          "output_type": "stream",
          "name": "stdout",
          "text": [
            "Collecting selenium\n",
            "  Downloading selenium-4.21.0-py3-none-any.whl (9.5 MB)\n",
            "\u001b[2K     \u001b[90m━━━━━━━━━━━━━━━━━━━━━━━━━━━━━━━━━━━━━━━━\u001b[0m \u001b[32m9.5/9.5 MB\u001b[0m \u001b[31m27.5 MB/s\u001b[0m eta \u001b[36m0:00:00\u001b[0m\n",
            "\u001b[?25hRequirement already satisfied: urllib3[socks]<3,>=1.26 in /usr/local/lib/python3.10/dist-packages (from selenium) (2.0.7)\n",
            "Collecting trio~=0.17 (from selenium)\n",
            "  Downloading trio-0.25.1-py3-none-any.whl (467 kB)\n",
            "\u001b[2K     \u001b[90m━━━━━━━━━━━━━━━━━━━━━━━━━━━━━━━━━━━━━━━━\u001b[0m \u001b[32m467.7/467.7 kB\u001b[0m \u001b[31m32.2 MB/s\u001b[0m eta \u001b[36m0:00:00\u001b[0m\n",
            "\u001b[?25hCollecting trio-websocket~=0.9 (from selenium)\n",
            "  Downloading trio_websocket-0.11.1-py3-none-any.whl (17 kB)\n",
            "Requirement already satisfied: certifi>=2021.10.8 in /usr/local/lib/python3.10/dist-packages (from selenium) (2024.2.2)\n",
            "Requirement already satisfied: typing_extensions>=4.9.0 in /usr/local/lib/python3.10/dist-packages (from selenium) (4.12.0)\n",
            "Requirement already satisfied: attrs>=23.2.0 in /usr/local/lib/python3.10/dist-packages (from trio~=0.17->selenium) (23.2.0)\n",
            "Requirement already satisfied: sortedcontainers in /usr/local/lib/python3.10/dist-packages (from trio~=0.17->selenium) (2.4.0)\n",
            "Requirement already satisfied: idna in /usr/local/lib/python3.10/dist-packages (from trio~=0.17->selenium) (3.7)\n",
            "Collecting outcome (from trio~=0.17->selenium)\n",
            "  Downloading outcome-1.3.0.post0-py2.py3-none-any.whl (10 kB)\n",
            "Requirement already satisfied: sniffio>=1.3.0 in /usr/local/lib/python3.10/dist-packages (from trio~=0.17->selenium) (1.3.1)\n",
            "Requirement already satisfied: exceptiongroup in /usr/local/lib/python3.10/dist-packages (from trio~=0.17->selenium) (1.2.1)\n",
            "Collecting wsproto>=0.14 (from trio-websocket~=0.9->selenium)\n",
            "  Downloading wsproto-1.2.0-py3-none-any.whl (24 kB)\n",
            "Requirement already satisfied: pysocks!=1.5.7,<2.0,>=1.5.6 in /usr/local/lib/python3.10/dist-packages (from urllib3[socks]<3,>=1.26->selenium) (1.7.1)\n",
            "Collecting h11<1,>=0.9.0 (from wsproto>=0.14->trio-websocket~=0.9->selenium)\n",
            "  Downloading h11-0.14.0-py3-none-any.whl (58 kB)\n",
            "\u001b[2K     \u001b[90m━━━━━━━━━━━━━━━━━━━━━━━━━━━━━━━━━━━━━━━━\u001b[0m \u001b[32m58.3/58.3 kB\u001b[0m \u001b[31m5.7 MB/s\u001b[0m eta \u001b[36m0:00:00\u001b[0m\n",
            "\u001b[?25hInstalling collected packages: outcome, h11, wsproto, trio, trio-websocket, selenium\n",
            "Successfully installed h11-0.14.0 outcome-1.3.0.post0 selenium-4.21.0 trio-0.25.1 trio-websocket-0.11.1 wsproto-1.2.0\n"
          ]
        }
      ],
      "source": [
        "!pip install selenium"
      ]
    },
    {
      "cell_type": "code",
      "source": [
        "from google.colab import drive\n",
        "drive.mount('/content/gdrive/', force_remount=True)\n",
        "\n",
        "import os\n",
        "os.chdir(\"/content/gdrive/My Drive/112-2 LATIA/\")\n",
        "os.listdir()"
      ],
      "metadata": {
        "colab": {
          "base_uri": "https://localhost:8080/"
        },
        "id": "hdnuuDqtdK9l",
        "outputId": "66272b0c-eae7-4bf5-d883-e636a9a8b069"
      },
      "execution_count": 2,
      "outputs": [
        {
          "output_type": "stream",
          "name": "stdout",
          "text": [
            "Mounted at /content/gdrive/\n"
          ]
        },
        {
          "output_type": "execute_result",
          "data": {
            "text/plain": [
              "['112_student.csv', '112_student.gsheet', 'Ch12-16', 'result.csv']"
            ]
          },
          "metadata": {},
          "execution_count": 2
        }
      ]
    },
    {
      "cell_type": "code",
      "source": [
        "import requests as rq\n",
        "import pandas as pd\n",
        "from bs4 import BeautifulSoup as soup\n",
        "from selenium import webdriver\n",
        "from selenium.webdriver.chrome.options import Options\n",
        "from selenium.webdriver.common.by import By\n",
        "from selenium.webdriver.common.keys import Keys\n",
        "import time\n",
        "import csv\n",
        "\n",
        "# Initialize a Selenium web driver\n",
        "chrome_options = webdriver.ChromeOptions()\n",
        "\n",
        "# 使用add_argument()方法添加--headless參數，使Chrome以headless模式運行，即在後台運行，不顯示GUI界面。\n",
        "chrome_options.add_argument('--headless')\n",
        "\n",
        "# 使用add_argument()方法添加--no-sandbox參數，這是一個必要的參數，用於解決在某些環境下的運行問題。\n",
        "chrome_options.add_argument('--no-sandbox')\n",
        "\n",
        "# 將 headless 屬性設置為 True。\n",
        "chrome_options.headless = True\n",
        "\n",
        "#driver = webdriver.Chrome('chromedriver', options=chrome_options)\n",
        "driver = webdriver.Chrome(options=chrome_options)\n",
        "\n",
        "base_url = 'https://tain.tw/stats?type=2&points_page=1'\n",
        "driver.get(base_url)\n",
        "\n",
        "# Wait for the page to load\n",
        "time.sleep(3)\n",
        "\n",
        "# Create an empty list to store all the data\n",
        "all_data = []\n",
        "\n",
        "# Define the desired column names\n",
        "column_names = ['Pos', '球員', '排名', '勝率', '直板勝率', '橫板勝率', '右手勝率', '左手勝率', '男子勝率', '女子勝率', '穩定率', '爆發率', '平面勝率', '短顆勝率', '中顆勝率', '長顆勝率', 'NT勝率']\n",
        "\n",
        "# Add the column names as the first row\n",
        "all_data.append(column_names)\n",
        "\n",
        "for i in range(0, 144):\n",
        "    # Find the table using XPath\n",
        "    table = driver.find_element(By.XPATH, \"//table[@class='table table-sm table-hover text-nowrap fs-caption']\")\n",
        "\n",
        "    # Get the HTML content of the table\n",
        "    table_html = table.get_attribute('outerHTML')\n",
        "\n",
        "    # Parse the HTML content using BeautifulSoup\n",
        "    soup_table = soup(table_html, 'html.parser')\n",
        "\n",
        "    # Find all table rows\n",
        "    rows = soup_table.find_all('tr')\n",
        "\n",
        "    # Create empty lists to store the data for the current page\n",
        "    data = []\n",
        "\n",
        "    # Iterate through the rows and extract data\n",
        "    for row in rows[1:]:  # Skip the header row\n",
        "        columns = row.find_all(['th', 'td'])\n",
        "        row_data = [column.get_text(strip=True) for column in columns]\n",
        "        data.append(row_data)\n",
        "\n",
        "    # Append the data for the current page to the list of all data\n",
        "    all_data.extend(data)\n",
        "\n",
        "    driver.maximize_window()\n",
        "    # Find the \"Next\" link using the specified criteria\n",
        "    #\n",
        "    # Find the URL of the \"Next\" page, if available\n",
        "    next_page_element = driver.find_element(By.XPATH, \"//li[@class='page-item' and not(@aria-disabled='true')]/a[@class='page-link' and contains(@aria-label, 'Next »')]\")\n",
        "    next_page_url = next_page_element.get_attribute('href')\n",
        "\n",
        "    if next_page_url:\n",
        "        # Navigate to the next page\n",
        "        driver.get(next_page_url)\n",
        "    else:\n",
        "        break  # No more pages to scrape\n",
        "\n",
        "# Create a DataFrame from all the extracted data\n",
        "df = pd.DataFrame(all_data[1:], columns=all_data[0])\n",
        "\n",
        "# Close the Selenium web driver\n",
        "driver.quit()\n",
        "\n",
        "with open('result.csv', 'w', newline='', encoding='utf-8') as csvfile:\n",
        "    writer = csv.writer(csvfile)\n",
        "    writer.writerows(all_data)\n",
        "\n",
        "# Display the extracted data in a DataFrame\n",
        "print(df)"
      ],
      "metadata": {
        "colab": {
          "base_uri": "https://localhost:8080/"
        },
        "id": "TAfYjnYxdJqx",
        "outputId": "06c9ac42-3672-47c8-f44b-7d54c8a701f7"
      },
      "execution_count": 3,
      "outputs": [
        {
          "output_type": "stream",
          "name": "stdout",
          "text": [
            "       Pos   球員    排名      勝率    直板勝率    橫板勝率    右手勝率    左手勝率    男子勝率    女子勝率  \\\n",
            "0        1  葉柏旻     1   66.67  100.00   62.50   75.00    0.00   66.67       -   \n",
            "1        2  黃建都     2  100.00       -  100.00  100.00  100.00  100.00  100.00   \n",
            "2        3  林晉霆     3  100.00       -  100.00  100.00       -  100.00  100.00   \n",
            "3        4  游雲江     4   81.82  100.00   80.00   80.00  100.00   90.00    0.00   \n",
            "4        5  林鴻昇     5  100.00       -  100.00  100.00  100.00  100.00       -   \n",
            "...    ...  ...   ...     ...     ...     ...     ...     ...     ...     ...   \n",
            "2875  2876  潘柔淳  2876   50.00  100.00   47.06   48.98   60.00   57.89   31.25   \n",
            "2876  2877  陸宥亘  2877    0.00    0.00    0.00    0.00    0.00    0.00    0.00   \n",
            "2877  2878  黃宇辰  2878   63.64    0.00   70.00   60.00  100.00   55.56  100.00   \n",
            "2878  2879  朱冠霖  2879   57.45   57.14   57.50   58.54   50.00   58.33   54.55   \n",
            "2879  2880  許勻弘  2880   75.00  100.00   72.73   72.73  100.00   70.00  100.00   \n",
            "\n",
            "         穩定率     爆發率    平面勝率    短顆勝率   中顆勝率    長顆勝率    NT勝率  \n",
            "0      66.67       -   50.00    0.00      -       -       -  \n",
            "1          -       -  100.00  100.00      -  100.00       -  \n",
            "2     100.00       -  100.00       -      -       -  100.00  \n",
            "3      80.00   87.50   80.00  100.00   0.00  100.00       -  \n",
            "4     100.00       -  100.00       -      -  100.00  100.00  \n",
            "...      ...     ...     ...     ...    ...     ...     ...  \n",
            "2875   63.89   37.04   54.55   25.00   0.00   42.86       -  \n",
            "2876    0.00    0.00   33.33    0.00      -    0.00       -  \n",
            "2877   66.67  100.00   50.00       -      -       -       -  \n",
            "2878   57.45       -   51.61   50.00  33.33   66.67    0.00  \n",
            "2879   66.67  100.00   72.73  100.00      -  100.00       -  \n",
            "\n",
            "[2880 rows x 17 columns]\n"
          ]
        }
      ]
    },
    {
      "cell_type": "code",
      "source": [
        "os.listdir()"
      ],
      "metadata": {
        "colab": {
          "base_uri": "https://localhost:8080/"
        },
        "id": "w_RlBtjudXUT",
        "outputId": "e2ef6b42-e076-4522-8a0b-395d029b4d45"
      },
      "execution_count": 4,
      "outputs": [
        {
          "output_type": "execute_result",
          "data": {
            "text/plain": [
              "['112_student.csv', '112_student.gsheet', 'Ch12-16', 'result.csv']"
            ]
          },
          "metadata": {},
          "execution_count": 4
        }
      ]
    }
  ]
}